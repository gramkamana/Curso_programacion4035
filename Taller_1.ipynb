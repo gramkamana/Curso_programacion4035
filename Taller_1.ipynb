{
  "nbformat": 4,
  "nbformat_minor": 0,
  "metadata": {
    "colab": {
      "provenance": []
    },
    "kernelspec": {
      "name": "python3",
      "display_name": "Python 3"
    },
    "language_info": {
      "name": "python"
    }
  },
  "cells": [
    {
      "cell_type": "markdown",
      "source": [
        "**TALLER 1**\n",
        "\n",
        "No de Identificación, Nombres, Apellidos, Dirección, Teléfono, Edad, Estado Civil, Número de hijos, Estatura en centímetros, fecha de contratación (Día/mes/año), Sueldo básico, Días Laborados."
      ],
      "metadata": {
        "id": "idXRElr4vfw1"
      }
    },
    {
      "cell_type": "code",
      "source": [
        "identificación=213412341234\n",
        "nombres=input(\"ingresar los nombres: \")\n",
        "apellidos=input(\"ingresar los apellidos: \")\n",
        "direccion=\"Calle falsa 123\"\n",
        "telefono=321341324\n",
        "edad=33\n",
        "estado_civil=\"Soltero\"\n",
        "n_hijos=2\n",
        "estatura=169\n",
        "f_contratación=\"14 de abril\"\n",
        "s_basico=1500000\n",
        "d_laborados=30\n",
        "print(identificación)\n",
        "print(nombres)\n",
        "print(apellidos)\n",
        "print(direccion)\n",
        "print(telefono)\n",
        "print(edad)\n",
        "print(estado_civil)\n",
        "print(n_hijos)\n",
        "print(estatura)\n",
        "print(f_contratación)\n",
        "print(s_basico)\n",
        "print(d_laborados)"
      ],
      "metadata": {
        "id": "oCWJruY7vjlj"
      },
      "execution_count": null,
      "outputs": []
    }
  ]
}