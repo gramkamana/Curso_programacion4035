{
  "nbformat": 4,
  "nbformat_minor": 0,
  "metadata": {
    "colab": {
      "provenance": []
    },
    "kernelspec": {
      "name": "python3",
      "display_name": "Python 3"
    },
    "language_info": {
      "name": "python"
    }
  },
  "cells": [
    {
      "cell_type": "markdown",
      "source": [
        "**TALLER 2**"
      ],
      "metadata": {
        "id": "vIisj5_nvvCm"
      }
    },
    {
      "cell_type": "markdown",
      "source": [
        "Se necesita un sistema que despliega una tabla de multiplicar de un número dado por el usuario. ciclo for"
      ],
      "metadata": {
        "id": "RGwWj0bZul3P"
      }
    },
    {
      "cell_type": "code",
      "source": [
        "numero = int(input(\"número al cual generar tabla: \"))\n",
        "for i in range (11):\n",
        "  print(str(numero)+\" x \"+str(i)+\" = \"+str(i*numero))"
      ],
      "metadata": {
        "colab": {
          "base_uri": "https://localhost:8080/"
        },
        "id": "5_WMoNc-upb6",
        "outputId": "d6cac0b8-4b22-4aec-db9d-766aa8940e5d"
      },
      "execution_count": null,
      "outputs": [
        {
          "output_type": "stream",
          "name": "stdout",
          "text": [
            "número al cual generar tabla: 5\n",
            "5 x 0 = 0\n",
            "5 x 1 = 5\n",
            "5 x 2 = 10\n",
            "5 x 3 = 15\n",
            "5 x 4 = 20\n",
            "5 x 5 = 25\n",
            "5 x 6 = 30\n",
            "5 x 7 = 35\n",
            "5 x 8 = 40\n",
            "5 x 9 = 45\n",
            "5 x 10 = 50\n"
          ]
        }
      ]
    },
    {
      "cell_type": "markdown",
      "source": [
        "Se necesita un sistema que pida un sueldo de un\n",
        "trabajador, si el sueldo es mayor a 655000, no tedrá\n",
        "ninguna bonificación, pero si es menor tiene bonificación\n",
        "del 4%. Al final se desea saber el total del sueldo con\n",
        "o sin bonificación. Preguntar si desea ejecutar de nuevo\n",
        "el programa con el ciclo while."
      ],
      "metadata": {
        "id": "jP-43ddMvIFX"
      }
    },
    {
      "cell_type": "code",
      "source": [
        "ini=\"si\"\n",
        "while ini==\"si\" or ini==\"yes\":\n",
        "  salario=int(input(\"\\nIngrese salario: \"))\n",
        "  if salario>655000:\n",
        "    print(\"\\n¡Beneficio de comision NO otorgado!\")\n",
        "    \n",
        "  else:\n",
        "    bonificacion=int((salario*0.04))\n",
        "    t_salario=bonificacion+salario\n",
        "    print(\"\\n¡Beneficio de comision de = ${} y Su sueldo total es de: ${} \".format(bonificacion,t_salario))\n",
        "  ini=input(\"\\nDesea iniciar la ejecución del programa BONIFICICACIÓN una vez mas: \").lower()    "
      ],
      "metadata": {
        "colab": {
          "base_uri": "https://localhost:8080/"
        },
        "id": "WUH9VelXvOeo",
        "outputId": "371b3812-ce93-4c48-9bc7-b283daeab945"
      },
      "execution_count": null,
      "outputs": [
        {
          "name": "stdout",
          "output_type": "stream",
          "text": [
            "\n",
            "Ingrese salario: 421\n",
            "\n",
            "¡Beneficio de comision de = $16 y Su sueldo total es de: $437 \n",
            "\n",
            "Desea iniciar la ejecución del programa BONIFICICACIÓN una vez mas: no\n"
          ]
        }
      ]
    },
    {
      "cell_type": "markdown",
      "source": [
        "Un maestro necesita un sistema para capturar las\n",
        "calificaciones de 5 parciales de sus alumnos, después\n",
        "recapturarlas necesita que se despliegue el promedio,\n",
        "cuando ya no quiera capturar más alumnos, necesita que\n",
        "se despliegue el promedio general de todos los alumnos\n",
        "capturados. Preguntar si desea ejecutar de nuevo el\n",
        "programa con el ciclo while."
      ],
      "metadata": {
        "id": "xeoFeD-T3bUq"
      }
    },
    {
      "cell_type": "code",
      "source": [
        "print(\"\\n¡SISTEMA DE REGISTRO DE NOTAS!\")\n",
        "ini=\"si\"\n",
        "s_prom=0\n",
        "n_alumnos=0\n",
        "while ini==\"si\" or ini==\"yes\":\n",
        "  print(\"\\nRegitro para el alumno n.{}\".format(n_alumnos+1))\n",
        "  s_nota=0\n",
        "  for i in range(5):\n",
        "    nota=int(input(\"Ingresar \"+str(i+1)+\"° nota: \"))\n",
        "    s_nota=s_nota+nota\n",
        "  prom=(s_nota/5)\n",
        "  n_alumnos=n_alumnos+1\n",
        "  s_prom=s_prom+prom\n",
        "  print(\"El promedio del estudiante {} es: {}\".format(n_alumnos,prom))\n",
        "  ini=input(\"\\nDesea agregar un nuevo alumno (si(yes)-no): \").lower()\n",
        "p_alumnos=s_prom/n_alumnos\n",
        "print(\"\\nEl promedio para los {} alumnos registrados es de: {}\".format(n_alumnos,p_alumnos))\n",
        "\n",
        "\n"
      ],
      "metadata": {
        "id": "AWQ705AL3a-Y",
        "colab": {
          "base_uri": "https://localhost:8080/"
        },
        "outputId": "1734e359-892b-47a7-b505-fef8bc8ea140"
      },
      "execution_count": null,
      "outputs": [
        {
          "output_type": "stream",
          "name": "stdout",
          "text": [
            "\n",
            "¡SISTEMA DE REGISTRO DE NOTAS!\n",
            "\n",
            "Regitro para el alumno n.1\n",
            "Ingresar 1° nota: 5\n",
            "Ingresar 2° nota: 5\n",
            "Ingresar 3° nota: 4\n",
            "Ingresar 4° nota: 4\n",
            "Ingresar 5° nota: 5\n",
            "El promedio del estudiante 1 es: 4.6\n",
            "\n",
            "Desea agregar un nuevo alumno (si(yes)-no): si\n",
            "\n",
            "Regitro para el alumno n.2\n",
            "Ingresar 1° nota: 4\n",
            "Ingresar 2° nota: 5\n",
            "Ingresar 3° nota: 5\n",
            "Ingresar 4° nota: 4\n",
            "Ingresar 5° nota: 6\n",
            "El promedio del estudiante 2 es: 4.8\n",
            "\n",
            "Desea agregar un nuevo alumno (si(yes)-no): no\n",
            "\n",
            "El promedio para los 2 alumnos registrados es de: 4.699999999999999\n"
          ]
        }
      ]
    },
    {
      "cell_type": "markdown",
      "source": [
        "Crear un bucle que cuente todos los números pares hasta\n",
        "el 100 ciclo for"
      ],
      "metadata": {
        "id": "kCg4huPgRFFc"
      }
    },
    {
      "cell_type": "code",
      "source": [
        "i=0\n",
        "n=0\n",
        "for i in range (0,101,2):\n",
        "  sum=i+i\n",
        "  #print(i)\n",
        "  n=n+1\n",
        "print(\"Los numeros pares son: \",(n-1))\n",
        "print(\"La suma de los numeros pares es:\",sum)\n"
      ],
      "metadata": {
        "colab": {
          "base_uri": "https://localhost:8080/"
        },
        "id": "sZ40k66CRMhH",
        "outputId": "5fc90b84-b919-4e40-a80c-fb942fa10246"
      },
      "execution_count": null,
      "outputs": [
        {
          "output_type": "stream",
          "name": "stdout",
          "text": [
            "Los numeros pares son:  50\n",
            "La suma de los numeros pares es: 200\n"
          ]
        }
      ]
    },
    {
      "cell_type": "markdown",
      "source": [
        "Escribir un programa que pregunte al usuario su edad y\n",
        "muestre por pantalla todos los años que ha cumplido\n",
        "(desde 1 hasta su edad). ciclo for"
      ],
      "metadata": {
        "id": "PaTL8DVoS0fN"
      }
    },
    {
      "cell_type": "code",
      "source": [
        "print(\"\\n¡AÑOS DE VIDA!\")\n",
        "edad=int(input(\"Ingrese edad en este año(2023): \"))\n",
        "a_nacimiento=2023-edad\n",
        "for i in range (1,edad):\n",
        "  a_nacimiento=a_nacimiento+1\n",
        "  print(\"Para el año {} cumplio {} años.\".format(a_nacimiento,i))\n",
        "  "
      ],
      "metadata": {
        "colab": {
          "base_uri": "https://localhost:8080/"
        },
        "id": "lCefiUP4S4TL",
        "outputId": "0f2b3b04-9ef3-483a-c657-5f5891410f79"
      },
      "execution_count": null,
      "outputs": [
        {
          "output_type": "stream",
          "name": "stdout",
          "text": [
            "\n",
            "¡AÑOS DE VIDA!\n",
            "Ingrese edad en este año(2023): 23\n",
            "Para el año 2001 cumplio 1 años.\n",
            "Para el año 2002 cumplio 2 años.\n",
            "Para el año 2003 cumplio 3 años.\n",
            "Para el año 2004 cumplio 4 años.\n",
            "Para el año 2005 cumplio 5 años.\n",
            "Para el año 2006 cumplio 6 años.\n",
            "Para el año 2007 cumplio 7 años.\n",
            "Para el año 2008 cumplio 8 años.\n",
            "Para el año 2009 cumplio 9 años.\n",
            "Para el año 2010 cumplio 10 años.\n",
            "Para el año 2011 cumplio 11 años.\n",
            "Para el año 2012 cumplio 12 años.\n",
            "Para el año 2013 cumplio 13 años.\n",
            "Para el año 2014 cumplio 14 años.\n",
            "Para el año 2015 cumplio 15 años.\n",
            "Para el año 2016 cumplio 16 años.\n",
            "Para el año 2017 cumplio 17 años.\n",
            "Para el año 2018 cumplio 18 años.\n",
            "Para el año 2019 cumplio 19 años.\n",
            "Para el año 2020 cumplio 20 años.\n",
            "Para el año 2021 cumplio 21 años.\n",
            "Para el año 2022 cumplio 22 años.\n"
          ]
        }
      ]
    }
  ]
}